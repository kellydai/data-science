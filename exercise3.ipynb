{
 "cells": [
  {
   "cell_type": "code",
   "execution_count": 2,
   "metadata": {
    "deletable": false,
    "editable": false
   },
   "outputs": [
    {
     "ename": "ModuleNotFoundError",
     "evalue": "No module named 'otter'",
     "output_type": "error",
     "traceback": [
      "\u001b[0;31m---------------------------------------------------------------------------\u001b[0m",
      "\u001b[0;31mModuleNotFoundError\u001b[0m                       Traceback (most recent call last)",
      "\u001b[0;32m/tmp/ipykernel_4129/3192410456.py\u001b[0m in \u001b[0;36m<module>\u001b[0;34m\u001b[0m\n\u001b[1;32m      1\u001b[0m \u001b[0;31m# Initialize Otter\u001b[0m\u001b[0;34m\u001b[0m\u001b[0;34m\u001b[0m\u001b[0;34m\u001b[0m\u001b[0m\n\u001b[0;32m----> 2\u001b[0;31m \u001b[0;32mimport\u001b[0m \u001b[0motter\u001b[0m\u001b[0;34m\u001b[0m\u001b[0;34m\u001b[0m\u001b[0m\n\u001b[0m\u001b[1;32m      3\u001b[0m \u001b[0mgrader\u001b[0m \u001b[0;34m=\u001b[0m \u001b[0motter\u001b[0m\u001b[0;34m.\u001b[0m\u001b[0mNotebook\u001b[0m\u001b[0;34m(\u001b[0m\u001b[0;34m\"03-exercise-pids2023.ipynb\"\u001b[0m\u001b[0;34m)\u001b[0m\u001b[0;34m\u001b[0m\u001b[0;34m\u001b[0m\u001b[0m\n",
      "\u001b[0;31mModuleNotFoundError\u001b[0m: No module named 'otter'"
     ]
    }
   ],
   "source": [
    "# Initialize Otter\n",
    "import otter\n",
    "grader = otter.Notebook(\"03-exercise-pids2023.ipynb\")"
   ]
  },
  {
   "cell_type": "markdown",
   "metadata": {
    "nbgrader": {
     "grade": false,
     "grade_id": "jupyter",
     "locked": true,
     "schema_version": 3,
     "solution": false
    }
   },
   "source": [
    "# Exercise sheet 3\n",
    "**Hello everyone!**\n",
    "\n",
    "This is the second graded exercise sheet. <br>\n",
    "\n",
    "**Points: 21** \n",
    "\n",
    "Topics of this exercise sheet are:\n",
    "* Get confident with Jupyter, pandas\n",
    "* Matplotlib\n",
    "* Introduction to more advanced visualization tools\n",
    "* Search new functions on your own\n",
    "\n",
    "Please let us know if you have questions or problems! <br>\n",
    "Contact us during the exercise session, on [Piazza](https://piazza.com/class/leibdr4lk8n3w4), or [via email](https://sada.dmi.unibas.ch/en/teaching/pids23).\n",
    "\n",
    "Please submit this exercise sheet on **GRADESCOPE**.\n",
    "Naming conventions:\n",
    "* Name of notebook: \"03-exercise-pids2023.ipynb\"\n",
    "\n",
    "Your notebook will be automatically graded using gradescope. Before the exercise session, you should have received an email saying that you were registered to a course in gradescope. If this is not the case, please contact us.\n",
    "\n",
    "The sheet is released before the exercise session on Tuesday. You have until the next exercise session on Tuesday to submit this sheet. Most of the questions of the exercise sheet can be handle during the session.\n",
    "\n",
    "**Handout date**: 14.03.2023 <br>\n",
    "**Submission date**: 21.03.2023 before 16:00 <br>"
   ]
  },
  {
   "cell_type": "markdown",
   "metadata": {
    "nbgrader": {
     "grade": false,
     "grade_id": "cell-57d368dcc28ae1d8",
     "locked": true,
     "schema_version": 3,
     "solution": false,
     "task": false
    }
   },
   "source": [
    "##  About this notebook\n",
    "\n",
    "In this notebook we will explore data on college majors sourced from the American Community Survey 2010–2012 Public Use Microdata Sample. This dataset can be found at this [URL](https://raw.githubusercontent.com/fivethirtyeight/data/master/college-majors/recent-grads.csv).\n",
    "\n",
    "\n",
    "### Please name the variables as suggested! Otherwise the grading system will fail you!"
   ]
  },
  {
   "cell_type": "markdown",
   "metadata": {
    "nbgrader": {
     "grade": false,
     "grade_id": "cell-fa0536a174aaddfb",
     "locked": true,
     "schema_version": 3,
     "solution": false,
     "task": false
    }
   },
   "source": [
    "---\n",
    "## Question 1 (1 point)\n",
    "\n",
    "In this part you will load the dataset and have a rapid overview of what it looks like."
   ]
  },
  {
   "cell_type": "code",
   "execution_count": 3,
   "metadata": {
    "nbgrader": {
     "grade": false,
     "grade_id": "cell-e90187f8c6e78984",
     "locked": true,
     "schema_version": 3,
     "solution": false,
     "task": false
    }
   },
   "outputs": [
    {
     "ename": "ModuleNotFoundError",
     "evalue": "No module named 'nose'",
     "output_type": "error",
     "traceback": [
      "\u001b[0;31m---------------------------------------------------------------------------\u001b[0m",
      "\u001b[0;31mModuleNotFoundError\u001b[0m                       Traceback (most recent call last)",
      "\u001b[0;32m/tmp/ipykernel_4129/3813885430.py\u001b[0m in \u001b[0;36m<module>\u001b[0;34m\u001b[0m\n\u001b[1;32m      1\u001b[0m \u001b[0;32mimport\u001b[0m \u001b[0mpandas\u001b[0m \u001b[0;32mas\u001b[0m \u001b[0mpd\u001b[0m\u001b[0;34m\u001b[0m\u001b[0;34m\u001b[0m\u001b[0m\n\u001b[0;32m----> 2\u001b[0;31m \u001b[0;32mfrom\u001b[0m \u001b[0mnose\u001b[0m\u001b[0;34m.\u001b[0m\u001b[0mtools\u001b[0m \u001b[0;32mimport\u001b[0m \u001b[0massert_is_instance\u001b[0m\u001b[0;34m,\u001b[0m \u001b[0massert_equal\u001b[0m\u001b[0;34m,\u001b[0m \u001b[0massert_almost_equal\u001b[0m\u001b[0;34m,\u001b[0m \u001b[0massert_true\u001b[0m\u001b[0;34m\u001b[0m\u001b[0;34m\u001b[0m\u001b[0m\n\u001b[0m",
      "\u001b[0;31mModuleNotFoundError\u001b[0m: No module named 'nose'"
     ]
    }
   ],
   "source": [
    "import pandas as pd\n",
    "from nose.tools import assert_is_instance, assert_equal, assert_almost_equal, assert_true"
   ]
  },
  {
   "cell_type": "markdown",
   "metadata": {
    "nbgrader": {
     "grade": false,
     "grade_id": "cell-fca2620292bebc35",
     "locked": true,
     "schema_version": 3,
     "solution": false,
     "task": false
    }
   },
   "source": [
    "Load the data in a Pandas dataframe using \"read_csv\" Pandas function."
   ]
  },
  {
   "cell_type": "code",
   "execution_count": 5,
   "metadata": {
    "nbgrader": {
     "grade": false,
     "grade_id": "cell-b29708797b6d4e98",
     "locked": false,
     "schema_version": 3,
     "solution": true,
     "task": false
    }
   },
   "outputs": [],
   "source": [
    "download_url = (\"https://raw.githubusercontent.com/fivethirtyeight/data/master/college-majors/recent-grads.csv\")\n",
    "df = pd.read_csv(download_url)\n"
   ]
  },
  {
   "cell_type": "markdown",
   "metadata": {
    "nbgrader": {
     "grade": false,
     "grade_id": "cell-d83c02d6d67db8c9",
     "locked": true,
     "schema_version": 3,
     "solution": false,
     "task": false
    }
   },
   "source": [
    "Display the first 7 rows and **all the columns**. This will help you to have an idea of what is inside the dataset."
   ]
  },
  {
   "cell_type": "code",
   "execution_count": 6,
   "metadata": {
    "nbgrader": {
     "grade": false,
     "grade_id": "cell-4d97c593e4c05a0f",
     "locked": false,
     "schema_version": 3,
     "solution": true,
     "task": false
    },
    "scrolled": true
   },
   "outputs": [
    {
     "data": {
      "text/html": [
       "<div>\n",
       "<style scoped>\n",
       "    .dataframe tbody tr th:only-of-type {\n",
       "        vertical-align: middle;\n",
       "    }\n",
       "\n",
       "    .dataframe tbody tr th {\n",
       "        vertical-align: top;\n",
       "    }\n",
       "\n",
       "    .dataframe thead th {\n",
       "        text-align: right;\n",
       "    }\n",
       "</style>\n",
       "<table border=\"1\" class=\"dataframe\">\n",
       "  <thead>\n",
       "    <tr style=\"text-align: right;\">\n",
       "      <th></th>\n",
       "      <th>Rank</th>\n",
       "      <th>Major_code</th>\n",
       "      <th>Major</th>\n",
       "      <th>Total</th>\n",
       "      <th>Men</th>\n",
       "      <th>Women</th>\n",
       "      <th>Major_category</th>\n",
       "      <th>ShareWomen</th>\n",
       "      <th>Sample_size</th>\n",
       "      <th>Employed</th>\n",
       "      <th>...</th>\n",
       "      <th>Part_time</th>\n",
       "      <th>Full_time_year_round</th>\n",
       "      <th>Unemployed</th>\n",
       "      <th>Unemployment_rate</th>\n",
       "      <th>Median</th>\n",
       "      <th>P25th</th>\n",
       "      <th>P75th</th>\n",
       "      <th>College_jobs</th>\n",
       "      <th>Non_college_jobs</th>\n",
       "      <th>Low_wage_jobs</th>\n",
       "    </tr>\n",
       "  </thead>\n",
       "  <tbody>\n",
       "    <tr>\n",
       "      <th>0</th>\n",
       "      <td>1</td>\n",
       "      <td>2419</td>\n",
       "      <td>PETROLEUM ENGINEERING</td>\n",
       "      <td>2339.0</td>\n",
       "      <td>2057.0</td>\n",
       "      <td>282.0</td>\n",
       "      <td>Engineering</td>\n",
       "      <td>0.120564</td>\n",
       "      <td>36</td>\n",
       "      <td>1976</td>\n",
       "      <td>...</td>\n",
       "      <td>270</td>\n",
       "      <td>1207</td>\n",
       "      <td>37</td>\n",
       "      <td>0.018381</td>\n",
       "      <td>110000</td>\n",
       "      <td>95000</td>\n",
       "      <td>125000</td>\n",
       "      <td>1534</td>\n",
       "      <td>364</td>\n",
       "      <td>193</td>\n",
       "    </tr>\n",
       "    <tr>\n",
       "      <th>1</th>\n",
       "      <td>2</td>\n",
       "      <td>2416</td>\n",
       "      <td>MINING AND MINERAL ENGINEERING</td>\n",
       "      <td>756.0</td>\n",
       "      <td>679.0</td>\n",
       "      <td>77.0</td>\n",
       "      <td>Engineering</td>\n",
       "      <td>0.101852</td>\n",
       "      <td>7</td>\n",
       "      <td>640</td>\n",
       "      <td>...</td>\n",
       "      <td>170</td>\n",
       "      <td>388</td>\n",
       "      <td>85</td>\n",
       "      <td>0.117241</td>\n",
       "      <td>75000</td>\n",
       "      <td>55000</td>\n",
       "      <td>90000</td>\n",
       "      <td>350</td>\n",
       "      <td>257</td>\n",
       "      <td>50</td>\n",
       "    </tr>\n",
       "    <tr>\n",
       "      <th>2</th>\n",
       "      <td>3</td>\n",
       "      <td>2415</td>\n",
       "      <td>METALLURGICAL ENGINEERING</td>\n",
       "      <td>856.0</td>\n",
       "      <td>725.0</td>\n",
       "      <td>131.0</td>\n",
       "      <td>Engineering</td>\n",
       "      <td>0.153037</td>\n",
       "      <td>3</td>\n",
       "      <td>648</td>\n",
       "      <td>...</td>\n",
       "      <td>133</td>\n",
       "      <td>340</td>\n",
       "      <td>16</td>\n",
       "      <td>0.024096</td>\n",
       "      <td>73000</td>\n",
       "      <td>50000</td>\n",
       "      <td>105000</td>\n",
       "      <td>456</td>\n",
       "      <td>176</td>\n",
       "      <td>0</td>\n",
       "    </tr>\n",
       "    <tr>\n",
       "      <th>3</th>\n",
       "      <td>4</td>\n",
       "      <td>2417</td>\n",
       "      <td>NAVAL ARCHITECTURE AND MARINE ENGINEERING</td>\n",
       "      <td>1258.0</td>\n",
       "      <td>1123.0</td>\n",
       "      <td>135.0</td>\n",
       "      <td>Engineering</td>\n",
       "      <td>0.107313</td>\n",
       "      <td>16</td>\n",
       "      <td>758</td>\n",
       "      <td>...</td>\n",
       "      <td>150</td>\n",
       "      <td>692</td>\n",
       "      <td>40</td>\n",
       "      <td>0.050125</td>\n",
       "      <td>70000</td>\n",
       "      <td>43000</td>\n",
       "      <td>80000</td>\n",
       "      <td>529</td>\n",
       "      <td>102</td>\n",
       "      <td>0</td>\n",
       "    </tr>\n",
       "    <tr>\n",
       "      <th>4</th>\n",
       "      <td>5</td>\n",
       "      <td>2405</td>\n",
       "      <td>CHEMICAL ENGINEERING</td>\n",
       "      <td>32260.0</td>\n",
       "      <td>21239.0</td>\n",
       "      <td>11021.0</td>\n",
       "      <td>Engineering</td>\n",
       "      <td>0.341631</td>\n",
       "      <td>289</td>\n",
       "      <td>25694</td>\n",
       "      <td>...</td>\n",
       "      <td>5180</td>\n",
       "      <td>16697</td>\n",
       "      <td>1672</td>\n",
       "      <td>0.061098</td>\n",
       "      <td>65000</td>\n",
       "      <td>50000</td>\n",
       "      <td>75000</td>\n",
       "      <td>18314</td>\n",
       "      <td>4440</td>\n",
       "      <td>972</td>\n",
       "    </tr>\n",
       "    <tr>\n",
       "      <th>5</th>\n",
       "      <td>6</td>\n",
       "      <td>2418</td>\n",
       "      <td>NUCLEAR ENGINEERING</td>\n",
       "      <td>2573.0</td>\n",
       "      <td>2200.0</td>\n",
       "      <td>373.0</td>\n",
       "      <td>Engineering</td>\n",
       "      <td>0.144967</td>\n",
       "      <td>17</td>\n",
       "      <td>1857</td>\n",
       "      <td>...</td>\n",
       "      <td>264</td>\n",
       "      <td>1449</td>\n",
       "      <td>400</td>\n",
       "      <td>0.177226</td>\n",
       "      <td>65000</td>\n",
       "      <td>50000</td>\n",
       "      <td>102000</td>\n",
       "      <td>1142</td>\n",
       "      <td>657</td>\n",
       "      <td>244</td>\n",
       "    </tr>\n",
       "    <tr>\n",
       "      <th>6</th>\n",
       "      <td>7</td>\n",
       "      <td>6202</td>\n",
       "      <td>ACTUARIAL SCIENCE</td>\n",
       "      <td>3777.0</td>\n",
       "      <td>2110.0</td>\n",
       "      <td>1667.0</td>\n",
       "      <td>Business</td>\n",
       "      <td>0.441356</td>\n",
       "      <td>51</td>\n",
       "      <td>2912</td>\n",
       "      <td>...</td>\n",
       "      <td>296</td>\n",
       "      <td>2482</td>\n",
       "      <td>308</td>\n",
       "      <td>0.095652</td>\n",
       "      <td>62000</td>\n",
       "      <td>53000</td>\n",
       "      <td>72000</td>\n",
       "      <td>1768</td>\n",
       "      <td>314</td>\n",
       "      <td>259</td>\n",
       "    </tr>\n",
       "  </tbody>\n",
       "</table>\n",
       "<p>7 rows × 21 columns</p>\n",
       "</div>"
      ],
      "text/plain": [
       "   Rank  Major_code                                      Major    Total  \\\n",
       "0     1        2419                      PETROLEUM ENGINEERING   2339.0   \n",
       "1     2        2416             MINING AND MINERAL ENGINEERING    756.0   \n",
       "2     3        2415                  METALLURGICAL ENGINEERING    856.0   \n",
       "3     4        2417  NAVAL ARCHITECTURE AND MARINE ENGINEERING   1258.0   \n",
       "4     5        2405                       CHEMICAL ENGINEERING  32260.0   \n",
       "5     6        2418                        NUCLEAR ENGINEERING   2573.0   \n",
       "6     7        6202                          ACTUARIAL SCIENCE   3777.0   \n",
       "\n",
       "       Men    Women Major_category  ShareWomen  Sample_size  Employed  ...  \\\n",
       "0   2057.0    282.0    Engineering    0.120564           36      1976  ...   \n",
       "1    679.0     77.0    Engineering    0.101852            7       640  ...   \n",
       "2    725.0    131.0    Engineering    0.153037            3       648  ...   \n",
       "3   1123.0    135.0    Engineering    0.107313           16       758  ...   \n",
       "4  21239.0  11021.0    Engineering    0.341631          289     25694  ...   \n",
       "5   2200.0    373.0    Engineering    0.144967           17      1857  ...   \n",
       "6   2110.0   1667.0       Business    0.441356           51      2912  ...   \n",
       "\n",
       "   Part_time  Full_time_year_round  Unemployed  Unemployment_rate  Median  \\\n",
       "0        270                  1207          37           0.018381  110000   \n",
       "1        170                   388          85           0.117241   75000   \n",
       "2        133                   340          16           0.024096   73000   \n",
       "3        150                   692          40           0.050125   70000   \n",
       "4       5180                 16697        1672           0.061098   65000   \n",
       "5        264                  1449         400           0.177226   65000   \n",
       "6        296                  2482         308           0.095652   62000   \n",
       "\n",
       "   P25th   P75th  College_jobs  Non_college_jobs  Low_wage_jobs  \n",
       "0  95000  125000          1534               364            193  \n",
       "1  55000   90000           350               257             50  \n",
       "2  50000  105000           456               176              0  \n",
       "3  43000   80000           529               102              0  \n",
       "4  50000   75000         18314              4440            972  \n",
       "5  50000  102000          1142               657            244  \n",
       "6  53000   72000          1768               314            259  \n",
       "\n",
       "[7 rows x 21 columns]"
      ]
     },
     "execution_count": 6,
     "metadata": {},
     "output_type": "execute_result"
    }
   ],
   "source": [
    "df.head(7)"
   ]
  },
  {
   "cell_type": "markdown",
   "metadata": {
    "nbgrader": {
     "grade": false,
     "grade_id": "cell-ae94e85e143b7277",
     "locked": true,
     "schema_version": 3,
     "solution": false,
     "task": false
    }
   },
   "source": [
    "## Question 2 (5 points)\n",
    "\n",
    "In this part we will plot basic information to get a sense of the dataset. ***You must use the pandas plot functions***. <br> (In genearl one could of course as well plot with matplotlib or similar BUT here we restrict us to the pandas plot for the sake of autograding.)\n",
    "\n",
    "For your information, \"Rank\" is the rank of the major by median earnings."
   ]
  },
  {
   "cell_type": "markdown",
   "metadata": {
    "nbgrader": {
     "grade": false,
     "grade_id": "cell-8a9fcb9c1c29febb",
     "locked": true,
     "schema_version": 3,
     "solution": false,
     "task": false
    }
   },
   "source": [
    "### 2a)\n",
    "Does the unemployment rate look proportional to the rank of the major? Plot the unemployment rate ($y$ axis) against the rank of the major ($x$ axis)."
   ]
  },
  {
   "cell_type": "code",
   "execution_count": 7,
   "metadata": {
    "nbgrader": {
     "grade": false,
     "grade_id": "cell-acfaa3f32953bcbb",
     "locked": false,
     "schema_version": 3,
     "solution": true,
     "task": false
    }
   },
   "outputs": [
    {
     "data": {
      "image/png": "[encoded data removed]",
      "text/plain": [
       "<Figure size 432x288 with 1 Axes>"
      ]
     },
     "metadata": {
      "needs_background": "light"
     },
     "output_type": "display_data"
    }
   ],
   "source": [
    "plot_unemployed_rank = df.plot(kind='line', x = 'Rank',y = 'Unemployment_rate')"
   ]
  },
  {
   "cell_type": "markdown",
   "metadata": {
    "nbgrader": {
     "grade": false,
     "grade_id": "cell-55ef276f68299d82",
     "locked": true,
     "schema_version": 3,
     "solution": false,
     "task": false
    }
   },
   "source": [
    "### 2b)\n",
    "Does the salary look proportional to the rank of the major?\n",
    "\n",
    "Use **pandas plot function** to display the median salary, the 25th and 75th percentiles against the rank of the major ($x$ axis). Display everything in **one plot**.  "
   ]
  },
  {
   "cell_type": "code",
   "execution_count": 8,
   "metadata": {
    "nbgrader": {
     "grade": true,
     "grade_id": "cell-b5d156584da87cd5",
     "locked": false,
     "points": 1,
     "schema_version": 3,
     "solution": true,
     "task": false
    }
   },
   "outputs": [
    {
     "data": {
      "image/png": "[encoded data removed]",
      "text/plain": [
       "<Figure size 432x288 with 1 Axes>"
      ]
     },
     "metadata": {
      "needs_background": "light"
     },
     "output_type": "display_data"
    }
   ],
   "source": [
    "x=df['Rank']\n",
    "plot_salary_rank = df.plot('Rank',['Median','P25th','P75th'])"
   ]
  },
  {
   "cell_type": "markdown",
   "metadata": {
    "nbgrader": {
     "grade": false,
     "grade_id": "cell-6067837abce6a692",
     "locked": true,
     "schema_version": 3,
     "solution": false,
     "task": false
    }
   },
   "source": [
    "### 2c)\n",
    "Using **pandas plot function**, plot the number of low wage jobs ($y$ axis) against the rank of the major ($x$ axis)."
   ]
  },
  {
   "cell_type": "code",
   "execution_count": 9,
   "metadata": {
    "nbgrader": {
     "grade": false,
     "grade_id": "cell-ddbbd4c867c01c29",
     "locked": false,
     "schema_version": 3,
     "solution": true,
     "task": false
    },
    "scrolled": true
   },
   "outputs": [
    {
     "data": {
      "image/png": "[encoded data removed]",
      "text/plain": [
       "<Figure size 432x288 with 1 Axes>"
      ]
     },
     "metadata": {
      "needs_background": "light"
     },
     "output_type": "display_data"
    }
   ],
   "source": [
    "plot_lowwage_rank = df.plot('Rank','Low_wage_jobs')"
   ]
  },
  {
   "cell_type": "markdown",
   "metadata": {
    "nbgrader": {
     "grade": false,
     "grade_id": "cell-d824236c2b810055",
     "locked": true,
     "schema_version": 3,
     "solution": false,
     "task": false
    }
   },
   "source": [
    "### 2d)\n",
    "\n",
    "Can we make conclusions about the relation between low wage jobs and the rank of the Major?\n",
    "\n",
    "We will display the percentage of low wage jobs ($y$ axis) against the rank of the major ($x$ axis) and **use Matplotlib** to get a more precise plot."
   ]
  },
  {
   "cell_type": "code",
   "execution_count": 10,
   "metadata": {
    "nbgrader": {
     "grade": false,
     "grade_id": "cell-9d1ea5002c784506",
     "locked": true,
     "schema_version": 3,
     "solution": false,
     "task": false
    }
   },
   "outputs": [
    {
     "data": {
      "text/plain": [
       "[<matplotlib.lines.Line2D at 0x2b38ff26f310>]"
      ]
     },
     "execution_count": 10,
     "metadata": {},
     "output_type": "execute_result"
    },
    {
     "data": {
      "image/png": "[encoded data removed]",
      "text/plain": [
       "<Figure size 432x288 with 1 Axes>"
      ]
     },
     "metadata": {
      "needs_background": "light"
     },
     "output_type": "display_data"
    }
   ],
   "source": [
    "import matplotlib.pyplot as plt\n",
    "df['Per']=df['Low_wage_jobs']/(df['College_jobs']+df['Non_college_jobs']+df['Low_wage_jobs'])\n",
    "df\n",
    "plt.plot(df['Rank'],df['Per'])"
   ]
  },
  {
   "cell_type": "markdown",
   "metadata": {
    "nbgrader": {
     "grade": false,
     "grade_id": "cell-12013f5c97977412",
     "locked": true,
     "schema_version": 3,
     "solution": false,
     "task": false
    }
   },
   "source": [
    "Extract the colums containing:\n",
    "    - rank\n",
    "    - number of low wage jobs\n",
    "    - employed people\n",
    "from the data set and put each of them into their own series."
   ]
  },
  {
   "cell_type": "code",
   "execution_count": 11,
   "metadata": {
    "nbgrader": {
     "grade": false,
     "grade_id": "cell-2d29ee1c10fccd4f",
     "locked": false,
     "schema_version": 3,
     "solution": true,
     "task": false
    }
   },
   "outputs": [
    {
     "data": {
      "text/plain": [
       "Ellipsis"
      ]
     },
     "execution_count": 11,
     "metadata": {},
     "output_type": "execute_result"
    }
   ],
   "source": [
    "df_rank = df['Rank']\n",
    "df_wage = df['Low_wage_jobs']\n",
    "df_employed = df['College_jobs']+df['Non_college_jobs']\n",
    "\n",
    "# SOLUTION\n",
    "\n",
    "..."
   ]
  },
  {
   "cell_type": "markdown",
   "metadata": {
    "nbgrader": {
     "grade": false,
     "grade_id": "cell-4a4b7b4d66704238",
     "locked": true,
     "schema_version": 3,
     "solution": false,
     "task": false
    }
   },
   "source": [
    "### 2e)\n",
    "Using **matplotlib**, display the **percentage** of low wage jobs ($y$ axis) against the rank of the major ($x$ axis). Please make a variable containing the values of the y axis of your plot.\n",
    "**Hint:** use the variables 'df_wage' and 'df_employed' that you extracted previously."
   ]
  },
  {
   "cell_type": "code",
   "execution_count": 12,
   "metadata": {
    "nbgrader": {
     "grade": true,
     "grade_id": "cell-c8617292a46c524d",
     "locked": false,
     "points": 1,
     "schema_version": 3,
     "solution": true,
     "task": false
    }
   },
   "outputs": [
    {
     "data": {
      "text/plain": [
       "[<matplotlib.lines.Line2D at 0x2b38ff2d2d00>]"
      ]
     },
     "execution_count": 12,
     "metadata": {},
     "output_type": "execute_result"
    },
    {
     "data": {
      "image/png": "[encoded data removed]",
      "text/plain": [
       "<Figure size 432x288 with 1 Axes>"
      ]
     },
     "metadata": {
      "needs_background": "light"
     },
     "output_type": "display_data"
    }
   ],
   "source": [
    "percentage = df_wage/(df_wage+df_employed)\n",
    "plt.plot(df_rank,percentage)"
   ]
  },
  {
   "cell_type": "markdown",
   "metadata": {
    "nbgrader": {
     "grade": false,
     "grade_id": "cell-a5c7074bbe5650f2",
     "locked": true,
     "schema_version": 3,
     "solution": false,
     "task": false
    }
   },
   "source": [
    "## Question 3 (3 points)\n",
    "In this part, we will get some information about the distribution of the data."
   ]
  },
  {
   "cell_type": "markdown",
   "metadata": {
    "nbgrader": {
     "grade": false,
     "grade_id": "cell-7aa0c789139bc044",
     "locked": true,
     "schema_version": 3,
     "solution": false,
     "task": false
    }
   },
   "source": [
    "### 3a) (1 point)\n",
    "Use **pandas plot** to display the histogram **with 18 bins** for the median salary. \n",
    "\n",
    "IMPORTANT: Estimate the height of the highest bin and assign your estimate to the variable **estimate**."
   ]
  },
  {
   "cell_type": "code",
   "execution_count": 13,
   "metadata": {
    "nbgrader": {
     "grade": false,
     "grade_id": "cell-d6d3efd95686ee59",
     "locked": false,
     "schema_version": 3,
     "solution": true,
     "task": false
    },
    "scrolled": false
   },
   "outputs": [
    {
     "data": {
      "text/plain": [
       "20"
      ]
     },
     "execution_count": 13,
     "metadata": {},
     "output_type": "execute_result"
    },
    {
     "data": {
      "image/png": "[encoded data removed]",
      "text/plain": [
       "<Figure size 432x288 with 1 Axes>"
      ]
     },
     "metadata": {
      "needs_background": "light"
     },
     "output_type": "display_data"
    }
   ],
   "source": [
    "#hist_median_column = df['Median'].median()\n",
    "\n",
    "#plt.hist(df,bins=18)\n",
    "#plt.ylim(0,estimate)\n",
    "#plt.axvline(median)\n",
    "\n",
    "hist = df[\"Median\"].plot.hist(bins=18)\n",
    "estimate= df['Median'].value_counts().max()\n",
    "estimate\n",
    "#estimate\n",
    "#plt.ylim(0,estimate)"
   ]
  },
  {
   "cell_type": "markdown",
   "metadata": {
    "nbgrader": {
     "grade": false,
     "grade_id": "cell-f6487061d8bb41f5",
     "locked": true,
     "schema_version": 3,
     "solution": false,
     "task": false
    }
   },
   "source": [
    "### 3b) (2 points)\n",
    "Use matplotlib to do a subplot with two figures.<br>\n",
    "The first figure is the histogram for the median salary (like 3a but with matplotlib).<br>\n",
    "The second figure is the same histogram but with 30 bins, the color green, $x$ and $y$ labels and a grid.\n",
    "\n",
    "**Important:** Create a variable named *color_black* that contains a string with the corresponding farbcode (only ONE letter) used in matplotlib for black."
   ]
  },
  {
   "cell_type": "code",
   "execution_count": 17,
   "metadata": {
    "nbgrader": {
     "grade": true,
     "grade_id": "cell-0e0738d9263bbb86",
     "locked": false,
     "points": 3,
     "schema_version": 3,
     "solution": true,
     "task": false
    }
   },
   "outputs": [
    {
     "data": {
      "text/plain": [
       "Text(0.5, 1.0, 'Histogram of Median Salaries with 30 bins')"
      ]
     },
     "execution_count": 17,
     "metadata": {},
     "output_type": "execute_result"
    },
    {
     "data": {
      "image/png": "[encoded data removed]",
      "text/plain": [
       "<Figure size 864x432 with 2 Axes>"
      ]
     },
     "metadata": {
      "needs_background": "light"
     },
     "output_type": "display_data"
    }
   ],
   "source": [
    "#plt.subplot(121)\n",
    "#plt.hist(df['Median'],bins=18)\n",
    "#plt.subplot(122)\n",
    "#plt.hist(df['Median'],bins=30,color='g')\n",
    "#plt.xlabel()\n",
    "#plt.ylabel()\n",
    "#color_black = ...\n",
    "\n",
    "\n",
    "\n",
    "# Define color_black variable\n",
    "color_black = 'k'\n",
    "\n",
    "# Create figure and axis objects for the subplot\n",
    "fig, axs = plt.subplots(1, 2, figsize=(12, 6))\n",
    "\n",
    "# Plot histogram with 18 bins in first figure\n",
    "axs[0].hist(df['Median'], bins=18, color=color_black)\n",
    "axs[0].set_xlabel('Median Salary')\n",
    "axs[0].set_ylabel('Frequency')\n",
    "axs[0].set_title('Histogram of Median Salaries')\n",
    "\n",
    "# Plot histogram with 30 bins in second figure\n",
    "axs[1].hist(df['Median'], bins=30, color='green')\n",
    "axs[1].set_xlabel('Median Salary')\n",
    "axs[1].set_ylabel('Frequency')\n",
    "axs[1].set_title('Histogram of Median Salaries with 30 bins')\n"
   ]
  },
  {
   "cell_type": "markdown",
   "metadata": {
    "nbgrader": {
     "grade": false,
     "grade_id": "cell-c230125d1c7df160",
     "locked": true,
     "schema_version": 3,
     "solution": false,
     "task": false
    }
   },
   "source": [
    "## Question 4 (4 points)\n",
    "Based on the histogram that you displayed in the previous part, you should see some isolated extreme values.\n",
    "In this part, we will try to identify and understand these outliers."
   ]
  },
  {
   "cell_type": "markdown",
   "metadata": {
    "nbgrader": {
     "grade": false,
     "grade_id": "cell-9388a85433a83fe0",
     "locked": true,
     "schema_version": 3,
     "solution": false,
     "task": false
    }
   },
   "source": [
    "### 4a) (1 point)\n",
    "Extract a dataframe containing the rows with the 10 highest median salaries."
   ]
  },
  {
   "cell_type": "code",
   "execution_count": 18,
   "metadata": {
    "nbgrader": {
     "grade": false,
     "grade_id": "cell-053de464e1e1e944",
     "locked": false,
     "schema_version": 3,
     "solution": true,
     "task": false
    }
   },
   "outputs": [
    {
     "data": {
      "text/html": [
       "<div>\n",
       "<style scoped>\n",
       "    .dataframe tbody tr th:only-of-type {\n",
       "        vertical-align: middle;\n",
       "    }\n",
       "\n",
       "    .dataframe tbody tr th {\n",
       "        vertical-align: top;\n",
       "    }\n",
       "\n",
       "    .dataframe thead th {\n",
       "        text-align: right;\n",
       "    }\n",
       "</style>\n",
       "<table border=\"1\" class=\"dataframe\">\n",
       "  <thead>\n",
       "    <tr style=\"text-align: right;\">\n",
       "      <th></th>\n",
       "      <th>Rank</th>\n",
       "      <th>Major_code</th>\n",
       "      <th>Major</th>\n",
       "      <th>Total</th>\n",
       "      <th>Men</th>\n",
       "      <th>Women</th>\n",
       "      <th>Major_category</th>\n",
       "      <th>ShareWomen</th>\n",
       "      <th>Sample_size</th>\n",
       "      <th>Employed</th>\n",
       "      <th>...</th>\n",
       "      <th>Full_time_year_round</th>\n",
       "      <th>Unemployed</th>\n",
       "      <th>Unemployment_rate</th>\n",
       "      <th>Median</th>\n",
       "      <th>P25th</th>\n",
       "      <th>P75th</th>\n",
       "      <th>College_jobs</th>\n",
       "      <th>Non_college_jobs</th>\n",
       "      <th>Low_wage_jobs</th>\n",
       "      <th>Per</th>\n",
       "    </tr>\n",
       "  </thead>\n",
       "  <tbody>\n",
       "    <tr>\n",
       "      <th>0</th>\n",
       "      <td>1</td>\n",
       "      <td>2419</td>\n",
       "      <td>PETROLEUM ENGINEERING</td>\n",
       "      <td>2339.0</td>\n",
       "      <td>2057.0</td>\n",
       "      <td>282.0</td>\n",
       "      <td>Engineering</td>\n",
       "      <td>0.120564</td>\n",
       "      <td>36</td>\n",
       "      <td>1976</td>\n",
       "      <td>...</td>\n",
       "      <td>1207</td>\n",
       "      <td>37</td>\n",
       "      <td>0.018381</td>\n",
       "      <td>110000</td>\n",
       "      <td>95000</td>\n",
       "      <td>125000</td>\n",
       "      <td>1534</td>\n",
       "      <td>364</td>\n",
       "      <td>193</td>\n",
       "      <td>0.092300</td>\n",
       "    </tr>\n",
       "    <tr>\n",
       "      <th>1</th>\n",
       "      <td>2</td>\n",
       "      <td>2416</td>\n",
       "      <td>MINING AND MINERAL ENGINEERING</td>\n",
       "      <td>756.0</td>\n",
       "      <td>679.0</td>\n",
       "      <td>77.0</td>\n",
       "      <td>Engineering</td>\n",
       "      <td>0.101852</td>\n",
       "      <td>7</td>\n",
       "      <td>640</td>\n",
       "      <td>...</td>\n",
       "      <td>388</td>\n",
       "      <td>85</td>\n",
       "      <td>0.117241</td>\n",
       "      <td>75000</td>\n",
       "      <td>55000</td>\n",
       "      <td>90000</td>\n",
       "      <td>350</td>\n",
       "      <td>257</td>\n",
       "      <td>50</td>\n",
       "      <td>0.076104</td>\n",
       "    </tr>\n",
       "    <tr>\n",
       "      <th>2</th>\n",
       "      <td>3</td>\n",
       "      <td>2415</td>\n",
       "      <td>METALLURGICAL ENGINEERING</td>\n",
       "      <td>856.0</td>\n",
       "      <td>725.0</td>\n",
       "      <td>131.0</td>\n",
       "      <td>Engineering</td>\n",
       "      <td>0.153037</td>\n",
       "      <td>3</td>\n",
       "      <td>648</td>\n",
       "      <td>...</td>\n",
       "      <td>340</td>\n",
       "      <td>16</td>\n",
       "      <td>0.024096</td>\n",
       "      <td>73000</td>\n",
       "      <td>50000</td>\n",
       "      <td>105000</td>\n",
       "      <td>456</td>\n",
       "      <td>176</td>\n",
       "      <td>0</td>\n",
       "      <td>0.000000</td>\n",
       "    </tr>\n",
       "    <tr>\n",
       "      <th>3</th>\n",
       "      <td>4</td>\n",
       "      <td>2417</td>\n",
       "      <td>NAVAL ARCHITECTURE AND MARINE ENGINEERING</td>\n",
       "      <td>1258.0</td>\n",
       "      <td>1123.0</td>\n",
       "      <td>135.0</td>\n",
       "      <td>Engineering</td>\n",
       "      <td>0.107313</td>\n",
       "      <td>16</td>\n",
       "      <td>758</td>\n",
       "      <td>...</td>\n",
       "      <td>692</td>\n",
       "      <td>40</td>\n",
       "      <td>0.050125</td>\n",
       "      <td>70000</td>\n",
       "      <td>43000</td>\n",
       "      <td>80000</td>\n",
       "      <td>529</td>\n",
       "      <td>102</td>\n",
       "      <td>0</td>\n",
       "      <td>0.000000</td>\n",
       "    </tr>\n",
       "    <tr>\n",
       "      <th>4</th>\n",
       "      <td>5</td>\n",
       "      <td>2405</td>\n",
       "      <td>CHEMICAL ENGINEERING</td>\n",
       "      <td>32260.0</td>\n",
       "      <td>21239.0</td>\n",
       "      <td>11021.0</td>\n",
       "      <td>Engineering</td>\n",
       "      <td>0.341631</td>\n",
       "      <td>289</td>\n",
       "      <td>25694</td>\n",
       "      <td>...</td>\n",
       "      <td>16697</td>\n",
       "      <td>1672</td>\n",
       "      <td>0.061098</td>\n",
       "      <td>65000</td>\n",
       "      <td>50000</td>\n",
       "      <td>75000</td>\n",
       "      <td>18314</td>\n",
       "      <td>4440</td>\n",
       "      <td>972</td>\n",
       "      <td>0.040968</td>\n",
       "    </tr>\n",
       "    <tr>\n",
       "      <th>5</th>\n",
       "      <td>6</td>\n",
       "      <td>2418</td>\n",
       "      <td>NUCLEAR ENGINEERING</td>\n",
       "      <td>2573.0</td>\n",
       "      <td>2200.0</td>\n",
       "      <td>373.0</td>\n",
       "      <td>Engineering</td>\n",
       "      <td>0.144967</td>\n",
       "      <td>17</td>\n",
       "      <td>1857</td>\n",
       "      <td>...</td>\n",
       "      <td>1449</td>\n",
       "      <td>400</td>\n",
       "      <td>0.177226</td>\n",
       "      <td>65000</td>\n",
       "      <td>50000</td>\n",
       "      <td>102000</td>\n",
       "      <td>1142</td>\n",
       "      <td>657</td>\n",
       "      <td>244</td>\n",
       "      <td>0.119432</td>\n",
       "    </tr>\n",
       "    <tr>\n",
       "      <th>6</th>\n",
       "      <td>7</td>\n",
       "      <td>6202</td>\n",
       "      <td>ACTUARIAL SCIENCE</td>\n",
       "      <td>3777.0</td>\n",
       "      <td>2110.0</td>\n",
       "      <td>1667.0</td>\n",
       "      <td>Business</td>\n",
       "      <td>0.441356</td>\n",
       "      <td>51</td>\n",
       "      <td>2912</td>\n",
       "      <td>...</td>\n",
       "      <td>2482</td>\n",
       "      <td>308</td>\n",
       "      <td>0.095652</td>\n",
       "      <td>62000</td>\n",
       "      <td>53000</td>\n",
       "      <td>72000</td>\n",
       "      <td>1768</td>\n",
       "      <td>314</td>\n",
       "      <td>259</td>\n",
       "      <td>0.110636</td>\n",
       "    </tr>\n",
       "    <tr>\n",
       "      <th>7</th>\n",
       "      <td>8</td>\n",
       "      <td>5001</td>\n",
       "      <td>ASTRONOMY AND ASTROPHYSICS</td>\n",
       "      <td>1792.0</td>\n",
       "      <td>832.0</td>\n",
       "      <td>960.0</td>\n",
       "      <td>Physical Sciences</td>\n",
       "      <td>0.535714</td>\n",
       "      <td>10</td>\n",
       "      <td>1526</td>\n",
       "      <td>...</td>\n",
       "      <td>827</td>\n",
       "      <td>33</td>\n",
       "      <td>0.021167</td>\n",
       "      <td>62000</td>\n",
       "      <td>31500</td>\n",
       "      <td>109000</td>\n",
       "      <td>972</td>\n",
       "      <td>500</td>\n",
       "      <td>220</td>\n",
       "      <td>0.130024</td>\n",
       "    </tr>\n",
       "    <tr>\n",
       "      <th>10</th>\n",
       "      <td>11</td>\n",
       "      <td>2407</td>\n",
       "      <td>COMPUTER ENGINEERING</td>\n",
       "      <td>41542.0</td>\n",
       "      <td>33258.0</td>\n",
       "      <td>8284.0</td>\n",
       "      <td>Engineering</td>\n",
       "      <td>0.199413</td>\n",
       "      <td>399</td>\n",
       "      <td>32506</td>\n",
       "      <td>...</td>\n",
       "      <td>23621</td>\n",
       "      <td>2275</td>\n",
       "      <td>0.065409</td>\n",
       "      <td>60000</td>\n",
       "      <td>45000</td>\n",
       "      <td>75000</td>\n",
       "      <td>23694</td>\n",
       "      <td>5721</td>\n",
       "      <td>980</td>\n",
       "      <td>0.032242</td>\n",
       "    </tr>\n",
       "    <tr>\n",
       "      <th>13</th>\n",
       "      <td>14</td>\n",
       "      <td>5008</td>\n",
       "      <td>MATERIALS SCIENCE</td>\n",
       "      <td>4279.0</td>\n",
       "      <td>2949.0</td>\n",
       "      <td>1330.0</td>\n",
       "      <td>Engineering</td>\n",
       "      <td>0.310820</td>\n",
       "      <td>22</td>\n",
       "      <td>3307</td>\n",
       "      <td>...</td>\n",
       "      <td>1967</td>\n",
       "      <td>78</td>\n",
       "      <td>0.023043</td>\n",
       "      <td>60000</td>\n",
       "      <td>39000</td>\n",
       "      <td>65000</td>\n",
       "      <td>2626</td>\n",
       "      <td>391</td>\n",
       "      <td>81</td>\n",
       "      <td>0.026146</td>\n",
       "    </tr>\n",
       "  </tbody>\n",
       "</table>\n",
       "<p>10 rows × 22 columns</p>\n",
       "</div>"
      ],
      "text/plain": [
       "    Rank  Major_code                                      Major    Total  \\\n",
       "0      1        2419                      PETROLEUM ENGINEERING   2339.0   \n",
       "1      2        2416             MINING AND MINERAL ENGINEERING    756.0   \n",
       "2      3        2415                  METALLURGICAL ENGINEERING    856.0   \n",
       "3      4        2417  NAVAL ARCHITECTURE AND MARINE ENGINEERING   1258.0   \n",
       "4      5        2405                       CHEMICAL ENGINEERING  32260.0   \n",
       "5      6        2418                        NUCLEAR ENGINEERING   2573.0   \n",
       "6      7        6202                          ACTUARIAL SCIENCE   3777.0   \n",
       "7      8        5001                 ASTRONOMY AND ASTROPHYSICS   1792.0   \n",
       "10    11        2407                       COMPUTER ENGINEERING  41542.0   \n",
       "13    14        5008                          MATERIALS SCIENCE   4279.0   \n",
       "\n",
       "        Men    Women     Major_category  ShareWomen  Sample_size  Employed  \\\n",
       "0    2057.0    282.0        Engineering    0.120564           36      1976   \n",
       "1     679.0     77.0        Engineering    0.101852            7       640   \n",
       "2     725.0    131.0        Engineering    0.153037            3       648   \n",
       "3    1123.0    135.0        Engineering    0.107313           16       758   \n",
       "4   21239.0  11021.0        Engineering    0.341631          289     25694   \n",
       "5    2200.0    373.0        Engineering    0.144967           17      1857   \n",
       "6    2110.0   1667.0           Business    0.441356           51      2912   \n",
       "7     832.0    960.0  Physical Sciences    0.535714           10      1526   \n",
       "10  33258.0   8284.0        Engineering    0.199413          399     32506   \n",
       "13   2949.0   1330.0        Engineering    0.310820           22      3307   \n",
       "\n",
       "    ...  Full_time_year_round  Unemployed  Unemployment_rate  Median  P25th  \\\n",
       "0   ...                  1207          37           0.018381  110000  95000   \n",
       "1   ...                   388          85           0.117241   75000  55000   \n",
       "2   ...                   340          16           0.024096   73000  50000   \n",
       "3   ...                   692          40           0.050125   70000  43000   \n",
       "4   ...                 16697        1672           0.061098   65000  50000   \n",
       "5   ...                  1449         400           0.177226   65000  50000   \n",
       "6   ...                  2482         308           0.095652   62000  53000   \n",
       "7   ...                   827          33           0.021167   62000  31500   \n",
       "10  ...                 23621        2275           0.065409   60000  45000   \n",
       "13  ...                  1967          78           0.023043   60000  39000   \n",
       "\n",
       "     P75th  College_jobs  Non_college_jobs  Low_wage_jobs       Per  \n",
       "0   125000          1534               364            193  0.092300  \n",
       "1    90000           350               257             50  0.076104  \n",
       "2   105000           456               176              0  0.000000  \n",
       "3    80000           529               102              0  0.000000  \n",
       "4    75000         18314              4440            972  0.040968  \n",
       "5   102000          1142               657            244  0.119432  \n",
       "6    72000          1768               314            259  0.110636  \n",
       "7   109000           972               500            220  0.130024  \n",
       "10   75000         23694              5721            980  0.032242  \n",
       "13   65000          2626               391             81  0.026146  \n",
       "\n",
       "[10 rows x 22 columns]"
      ]
     },
     "execution_count": 18,
     "metadata": {},
     "output_type": "execute_result"
    }
   ],
   "source": [
    "df_sorted=df.sort_values('Median',ascending=False)\n",
    "top_10 = df_sorted.nlargest(10, 'Median')\n",
    "top_10"
   ]
  },
  {
   "cell_type": "markdown",
   "metadata": {
    "nbgrader": {
     "grade": false,
     "grade_id": "cell-b6de159ad0683d9b",
     "locked": true,
     "schema_version": 3,
     "solution": false,
     "task": false
    }
   },
   "source": [
    "### 4b) (1 point)\n",
    "For the majors with top 10 median salaries, display the median, the 25th and 75th percentiles on a bar plot.<br>\n",
    "**Hint**: Use the attribute 'kind' in the pandas plot function."
   ]
  },
  {
   "cell_type": "code",
   "execution_count": 29,
   "metadata": {
    "nbgrader": {
     "grade": false,
     "grade_id": "cell-97fda96bd4b5fa3e",
     "locked": false,
     "schema_version": 3,
     "solution": true,
     "task": false
    }
   },
   "outputs": [
    {
     "data": {
      "text/plain": [
       "<AxesSubplot:xlabel='Rank'>"
      ]
     },
     "execution_count": 29,
     "metadata": {},
     "output_type": "execute_result"
    },
    {
     "data": {
      "image/png": "[encoded data removed]",
      "text/plain": [
       "<Figure size 432x288 with 1 Axes>"
      ]
     },
     "metadata": {
      "needs_background": "light"
     },
     "output_type": "display_data"
    }
   ],
   "source": [
    "hist_major = top_10.plot('Rank',['Median','P25th','P75th'],kind='bar')\n",
    "hist_major"
   ]
  },
  {
   "cell_type": "markdown",
   "metadata": {
    "nbgrader": {
     "grade": false,
     "grade_id": "cell-80417b2911c6be23",
     "locked": true,
     "schema_version": 3,
     "solution": false,
     "task": false
    }
   },
   "source": [
    "### 4c) (2 points)\n",
    "We can also create a histogram for a specific category. Display the histogram of the median salary for the Major with category \"Engineering\" **with 18 bins!**\n",
    "\n",
    "IMPORTANT: Estimate the height of the highest bin and assign your estimate to the variable **estimate2**."
   ]
  },
  {
   "cell_type": "code",
   "execution_count": 39,
   "metadata": {
    "nbgrader": {
     "grade": true,
     "grade_id": "cell-f89fca6713c753e0",
     "locked": false,
     "points": 1,
     "schema_version": 3,
     "solution": true,
     "task": false
    }
   },
   "outputs": [
    {
     "data": {
      "image/png": "[encoded data removed]",
      "text/plain": [
       "<Figure size 432x288 with 1 Axes>"
      ]
     },
     "metadata": {
      "needs_background": "light"
     },
     "output_type": "display_data"
    }
   ],
   "source": [
    "engin= df[df['Major_category'] == 'Engineering']\n",
    "estimate2 = engin.value_counts().max()\n",
    "hist_major_engineering=engin['Median'].plot.hist(bins=18)\n"
   ]
  },
  {
   "cell_type": "markdown",
   "metadata": {
    "nbgrader": {
     "grade": false,
     "grade_id": "cell-fd8a27f21df4d675",
     "locked": true,
     "schema_version": 3,
     "solution": false,
     "task": false
    }
   },
   "source": [
    "## Question 5 (1 point)\n",
    "Let's now see if we can infer the correlation between two factors using scatter plots."
   ]
  },
  {
   "cell_type": "markdown",
   "metadata": {
    "nbgrader": {
     "grade": false,
     "grade_id": "cell-1c97f9dc357e99d8",
     "locked": true,
     "schema_version": 3,
     "solution": false,
     "task": false
    }
   },
   "source": [
    "Using **pandas plot functions** plot the median salary ($x$ axis) against the unemployment rate on a scatter plot.<br>\n",
    "**Hint**: use once again the attribute 'kind' from the pandas plot function."
   ]
  },
  {
   "cell_type": "code",
   "execution_count": 45,
   "metadata": {
    "nbgrader": {
     "grade": false,
     "grade_id": "cell-952575fb38116382",
     "locked": false,
     "schema_version": 3,
     "solution": true,
     "task": false
    }
   },
   "outputs": [
    {
     "data": {
      "text/plain": [
       "<AxesSubplot:xlabel='Median', ylabel='Unemployment_rate'>"
      ]
     },
     "execution_count": 45,
     "metadata": {},
     "output_type": "execute_result"
    },
    {
     "data": {
      "image/png": "[encoded data removed]",
      "text/plain": [
       "<Figure size 432x288 with 1 Axes>"
      ]
     },
     "metadata": {
      "needs_background": "light"
     },
     "output_type": "display_data"
    }
   ],
   "source": [
    "scatterplot = df.plot('Median','Unemployment_rate',kind='scatter')\n",
    "scatterplot"
   ]
  },
  {
   "cell_type": "markdown",
   "metadata": {
    "nbgrader": {
     "grade": false,
     "grade_id": "cell-396e26035fa5e713",
     "locked": true,
     "schema_version": 3,
     "solution": false,
     "task": false
    }
   },
   "source": [
    "## Question 6 (3 points)\n",
    "In this part, we will now see how to analyze and visualize categorical data."
   ]
  },
  {
   "cell_type": "markdown",
   "metadata": {
    "nbgrader": {
     "grade": false,
     "grade_id": "cell-cca9bf98d94dc08f",
     "locked": true,
     "schema_version": 3,
     "solution": false,
     "task": false
    }
   },
   "source": [
    "We want to count how many students there are per category. <br>\n",
    "Extract the different categories (column \"Major_category\") and display them on an **horizontal** bar plot.<br>\n",
    "Sum up the number of students in each category (column \"Total\"). <br>\n",
    "**Hint**: use once again the attribute 'kind' from the pandas plot function as well as the function df.groupby()."
   ]
  },
  {
   "cell_type": "code",
   "execution_count": 50,
   "metadata": {
    "nbgrader": {
     "grade": false,
     "grade_id": "cell-762e561165e3b73b",
     "locked": false,
     "schema_version": 3,
     "solution": true,
     "task": false
    }
   },
   "outputs": [
    {
     "data": {
      "text/plain": [
       "Text(0.5, 1.0, 'Number of Students per Major Category')"
      ]
     },
     "execution_count": 50,
     "metadata": {},
     "output_type": "execute_result"
    },
    {
     "data": {
      "image/png": "[encoded data removed]",
      "text/plain": [
       "<Figure size 432x288 with 1 Axes>"
      ]
     },
     "metadata": {
      "needs_background": "light"
     },
     "output_type": "display_data"
    }
   ],
   "source": [
    "df_grouped=df.groupby('Major_category').agg({'Total': 'sum'})\n",
    "#cat_totals = df['Total'].sum().\n",
    "cat_totals = df_grouped.index.tolist()\n",
    "cat_totals = df_grouped['Total'].tolist()\n",
    "\n",
    "# Create a horizontal bar plot of the student counts per category\n",
    "ax = pd.Series(cat_totals, index=categories).plot(kind='barh')\n",
    "ax.set_xlabel('Number of Students')\n",
    "ax.set_ylabel('Major Category')\n",
    "ax.set_title('Number of Students per Major Category')\n"
   ]
  },
  {
   "cell_type": "code",
   "execution_count": 51,
   "metadata": {
    "deletable": false,
    "editable": false
   },
   "outputs": [
    {
     "ename": "NameError",
     "evalue": "name 'grader' is not defined",
     "output_type": "error",
     "traceback": [
      "\u001b[0;31m---------------------------------------------------------------------------\u001b[0m",
      "\u001b[0;31mNameError\u001b[0m                                 Traceback (most recent call last)",
      "\u001b[0;32m/tmp/ipykernel_4129/3894755201.py\u001b[0m in \u001b[0;36m<module>\u001b[0;34m\u001b[0m\n\u001b[0;32m----> 1\u001b[0;31m \u001b[0mgrader\u001b[0m\u001b[0;34m.\u001b[0m\u001b[0mcheck\u001b[0m\u001b[0;34m(\u001b[0m\u001b[0;34m\"Question 6\"\u001b[0m\u001b[0;34m)\u001b[0m\u001b[0;34m\u001b[0m\u001b[0;34m\u001b[0m\u001b[0m\n\u001b[0m",
      "\u001b[0;31mNameError\u001b[0m: name 'grader' is not defined"
     ]
    }
   ],
   "source": [
    "grader.check(\"Question 6\")"
   ]
  },
  {
   "cell_type": "markdown",
   "metadata": {
    "deletable": false,
    "editable": false
   },
   "source": [
    "---\n",
    "\n",
    "To double-check your work, the cell below will rerun all of the autograder tests."
   ]
  },
  {
   "cell_type": "code",
   "execution_count": null,
   "metadata": {
    "deletable": false,
    "editable": false
   },
   "outputs": [],
   "source": [
    "grader.check_all()"
   ]
  },
  {
   "cell_type": "markdown",
   "metadata": {
    "deletable": false,
    "editable": false
   },
   "source": [
    "## Submission\n",
    "\n",
    "Make sure you have run all cells in your notebook in order before running the cell below, so that all images/graphs appear in the output. The cell below will generate a zip file for you to submit. **Please save before exporting!**"
   ]
  },
  {
   "cell_type": "code",
   "execution_count": null,
   "metadata": {
    "deletable": false,
    "editable": false
   },
   "outputs": [],
   "source": [
    "# Save your notebook first, then run this cell to export your submission.\n",
    "grader.export()"
   ]
  },
  {
   "cell_type": "markdown",
   "metadata": {},
   "source": [
    " "
   ]
  }
 ],
 "metadata": {
  "celltoolbar": "Create Assignment",
  "kernelspec": {
   "display_name": "Python 3.8 (standard)",
   "language": "python",
   "name": "python3.8"
  },
  "language_info": {
   "codemirror_mode": {
    "name": "ipython",
    "version": 3
   },
   "file_extension": ".py",
   "mimetype": "text/x-python",
   "name": "python",
   "nbconvert_exporter": "python",
   "pygments_lexer": "ipython3",
   "version": "3.8.13"
  }
 },
 "nbformat": 4,
 "nbformat_minor": 1
}
